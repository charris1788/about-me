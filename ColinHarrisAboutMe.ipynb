{
  "nbformat": 4,
  "nbformat_minor": 0,
  "metadata": {
    "colab": {
      "provenance": [],
      "authorship_tag": "ABX9TyOiv4zhO3Ffesy3lbxjVTbo",
      "include_colab_link": true
    },
    "kernelspec": {
      "name": "python3",
      "display_name": "Python 3"
    },
    "language_info": {
      "name": "python"
    }
  },
  "cells": [
    {
      "cell_type": "markdown",
      "metadata": {
        "id": "view-in-github",
        "colab_type": "text"
      },
      "source": [
        "<a href=\"https://colab.research.google.com/github/charris1788/about-me/blob/main/ColinHarrisAboutMe.ipynb\" target=\"_parent\"><img src=\"https://colab.research.google.com/assets/colab-badge.svg\" alt=\"Open In Colab\"/></a>"
      ]
    },
    {
      "cell_type": "markdown",
      "source": [
        "#About Me\n"
      ],
      "metadata": {
        "id": "UOSnoZygScnE"
      }
    },
    {
      "cell_type": "markdown",
      "source": [
        "##**Colin Harris**\n"
      ],
      "metadata": {
        "id": "fCZhy4iRSwDt"
      }
    },
    {
      "cell_type": "markdown",
      "source": [
        "I signed up for this bootcamp, because I'd like a career change and to *expand* my opportunities.\n",
        "\n",
        "If I was swapping heads with an animal, I would choose an eagle for their enhanced vision. Here's a picture of an eagle I found from Wikipedia:\n",
        "![Eagle picture](https://upload.wikimedia.org/wikipedia/commons/1/1a/About_to_Launch_%2826075320352%29.jpg \"A picture of a bald eagle perched on a branch\")"
      ],
      "metadata": {
        "id": "X5uc_1g4S690"
      }
    },
    {
      "cell_type": "markdown",
      "source": [
        "If I could only have three apps on my smartphone, I'd choose the following:\n",
        "- Tidal\n",
        "- Chrome\n",
        "- Yahoo Fantasy Sports"
      ],
      "metadata": {
        "id": "Geds27LmUVmq"
      }
    },
    {
      "cell_type": "markdown",
      "source": [
        "I'm an only child, so there was no way to pin bad behavior on siblings. However, once in high school I accidentally broke a set of test tubes in chemistry and quickly tossed them in the sharps disposal and grabbed another set without telling my teacher who was out of the room at the time."
      ],
      "metadata": {
        "id": "HX1v_MgRUr5z"
      }
    },
    {
      "cell_type": "markdown",
      "source": [
        "I don't listen to any podcasts regularly, but I do enjoy a good TV show. I'd rank my favorites now as:\n",
        "1. *The Sopranos*\n",
        "2. *Mad Men*\n",
        "3. *Succession*\n",
        "4. *Better Call Saul*\n",
        "5. *Curb Your Enthusiasm*\n",
        "6. *Fargo*"
      ],
      "metadata": {
        "id": "4LecO9yaVpk4"
      }
    },
    {
      "cell_type": "markdown",
      "source": [
        "Here's a [link](https://www.linkedin.com/in/colin-h-26aa3b1a9/) to my LinkedIn. Work in progress."
      ],
      "metadata": {
        "id": "mFhryi12WGdS"
      }
    },
    {
      "cell_type": "markdown",
      "source": [
        "I'm a big sports fan as well, so here are my favorite teams:\n",
        "\n",
        "Sport|Team|\n",
        " - | - |\n",
        " NBA | Houston Rockets |\n",
        " NFL | Dallas Cowboys |\n",
        " MLB | Houston Astros |\n",
        " NCAA | Texas Longhorns |"
      ],
      "metadata": {
        "id": "5VZz9FSWWWwC"
      }
    }
  ]
}